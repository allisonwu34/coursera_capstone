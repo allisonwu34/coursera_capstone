{
    "cells": [
        {
            "cell_type": "markdown",
            "metadata": {},
            "source": "# The Battle of the Neighborhoods: Capstone Project Week 1"
        },
        {
            "cell_type": "markdown",
            "metadata": {},
            "source": "__Background__"
        },
        {
            "cell_type": "markdown",
            "metadata": {},
            "source": "Location data can be very useful for people moving to a new city to find an area that is very similar to their old neighborhood in their old city. They can know before they move that their new area has resources and venues that will interest them and help them adjust to their new environment more quickly because it is actually familiar and comfortable. This is of personal interest to this data scientist who is looking to relocate to a new city soon."
        },
        {
            "cell_type": "markdown",
            "metadata": {},
            "source": "__Problem Description__"
        },
        {
            "cell_type": "markdown",
            "metadata": {},
            "source": "For someone who currently lives in one city, how can we find the most similar neighborood in a another city based on the kinds of venues that are most common in that neighborhood? In this project, we will explore this question - specifically for someone who currently lives in Charleston, South Carolina, is moving to Pittsburgh, Pennsylvania, and is interested in neighborhood similarity based on the number of craft breweries in that neighborhood. Additionally, we will look at median home values in those neighborhoods to better inform our decision about where to relocate with a home-buying budget of USD 400,000."
        },
        {
            "cell_type": "markdown",
            "metadata": {},
            "source": "__Data Description__"
        },
        {
            "cell_type": "markdown",
            "metadata": {},
            "source": "We will use the Foursquare API to find venues classified as breweries in each neighborhood of each respective city. We will use the neighborhoods that have available home value index information from Zillow (https://www.zillow.com/research/data/) so that we can also study the median home values in those neighborhoods and know whether we can move into that neighborhood without going over budget."
        }
    ],
    "metadata": {
        "kernelspec": {
            "display_name": "Python 3.7",
            "language": "python",
            "name": "python3"
        },
        "language_info": {
            "codemirror_mode": {
                "name": "ipython",
                "version": 3
            },
            "file_extension": ".py",
            "mimetype": "text/x-python",
            "name": "python",
            "nbconvert_exporter": "python",
            "pygments_lexer": "ipython3",
            "version": "3.7.9"
        }
    },
    "nbformat": 4,
    "nbformat_minor": 1
}